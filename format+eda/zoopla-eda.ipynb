{
 "cells": [
  {
   "cell_type": "code",
   "execution_count": 222,
   "metadata": {},
   "outputs": [],
   "source": [
    "import pandas as pd\n",
    "import matplotlib.pyplot as plt\n",
    "import seaborn as sns\n",
    "from pathlib import Path\n",
    "import os\n",
    "\n",
    "main_directory = Path.cwd().parent.as_posix()"
   ]
  },
  {
   "cell_type": "code",
   "execution_count": 223,
   "metadata": {},
   "outputs": [],
   "source": [
    "zoopla_df = pd.read_csv(f\"{main_directory}/databases/zooplai.csv\")"
   ]
  },
  {
   "cell_type": "code",
   "execution_count": 224,
   "metadata": {},
   "outputs": [
    {
     "name": "stdout",
     "output_type": "stream",
     "text": [
      "15920\n"
     ]
    },
    {
     "data": {
      "text/html": [
       "<div>\n",
       "<style scoped>\n",
       "    .dataframe tbody tr th:only-of-type {\n",
       "        vertical-align: middle;\n",
       "    }\n",
       "\n",
       "    .dataframe tbody tr th {\n",
       "        vertical-align: top;\n",
       "    }\n",
       "\n",
       "    .dataframe thead th {\n",
       "        text-align: right;\n",
       "    }\n",
       "</style>\n",
       "<table border=\"1\" class=\"dataframe\">\n",
       "  <thead>\n",
       "    <tr style=\"text-align: right;\">\n",
       "      <th></th>\n",
       "      <th>title</th>\n",
       "      <th>address</th>\n",
       "      <th>price</th>\n",
       "      <th>station</th>\n",
       "      <th>beds</th>\n",
       "      <th>baths</th>\n",
       "      <th>receptions</th>\n",
       "    </tr>\n",
       "  </thead>\n",
       "  <tbody>\n",
       "    <tr>\n",
       "      <th>0</th>\n",
       "      <td>2 bed flat for sale</td>\n",
       "      <td>Chorley New Road, Heaton, Bolton - Over 55's D...</td>\n",
       "      <td>£140,000</td>\n",
       "      <td>0.7 miles Lostock</td>\n",
       "      <td>2</td>\n",
       "      <td>1</td>\n",
       "      <td>1</td>\n",
       "    </tr>\n",
       "    <tr>\n",
       "      <th>1</th>\n",
       "      <td>2 bed semi-detached house for sale</td>\n",
       "      <td>Harris Avenue, Denton, Manchester M34</td>\n",
       "      <td>£230,000</td>\n",
       "      <td>0.4 miles Denton</td>\n",
       "      <td>2</td>\n",
       "      <td>0</td>\n",
       "      <td>0</td>\n",
       "    </tr>\n",
       "    <tr>\n",
       "      <th>2</th>\n",
       "      <td>3 bed detached bungalow for sale</td>\n",
       "      <td>Gidlow Lane, Springfield, Wigan WN6</td>\n",
       "      <td>£300,000</td>\n",
       "      <td>1 miles Wigan Wallgate</td>\n",
       "      <td>3</td>\n",
       "      <td>2</td>\n",
       "      <td>2</td>\n",
       "    </tr>\n",
       "    <tr>\n",
       "      <th>3</th>\n",
       "      <td>2 bed semi-detached house for sale</td>\n",
       "      <td>Gordon Avenue, Ashton-In-Makerfield, Wigan WN4</td>\n",
       "      <td>£140,000</td>\n",
       "      <td>0.4 miles Garswood</td>\n",
       "      <td>2</td>\n",
       "      <td>1</td>\n",
       "      <td>1</td>\n",
       "    </tr>\n",
       "  </tbody>\n",
       "</table>\n",
       "</div>"
      ],
      "text/plain": [
       "                                title  \\\n",
       "0                 2 bed flat for sale   \n",
       "1  2 bed semi-detached house for sale   \n",
       "2    3 bed detached bungalow for sale   \n",
       "3  2 bed semi-detached house for sale   \n",
       "\n",
       "                                             address     price  \\\n",
       "0  Chorley New Road, Heaton, Bolton - Over 55's D...  £140,000   \n",
       "1              Harris Avenue, Denton, Manchester M34  £230,000   \n",
       "2                Gidlow Lane, Springfield, Wigan WN6  £300,000   \n",
       "3     Gordon Avenue, Ashton-In-Makerfield, Wigan WN4  £140,000   \n",
       "\n",
       "                  station  beds  baths  receptions  \n",
       "0       0.7 miles Lostock     2      1           1  \n",
       "1        0.4 miles Denton     2      0           0  \n",
       "2  1 miles Wigan Wallgate     3      2           2  \n",
       "3      0.4 miles Garswood     2      1           1  "
      ]
     },
     "execution_count": 224,
     "metadata": {},
     "output_type": "execute_result"
    }
   ],
   "source": [
    "print(len(zoopla_df))\n",
    "zoopla_df.head(4)"
   ]
  },
  {
   "cell_type": "code",
   "execution_count": 225,
   "metadata": {},
   "outputs": [],
   "source": [
    "def clean_type(zoopla_df):\n",
    "    zoopla_clean = zoopla_df.copy()\n",
    "    #Remove words and all numbers from the title so we get only the property type \n",
    "    zoopla_clean['title'] = zoopla_clean['title'].str.replace('for sale','')\n",
    "    zoopla_clean['title'] = zoopla_clean['title'].str.replace('bed','')\n",
    "    zoopla_clean['title'] = zoopla_clean['title'].str.replace('house','')\n",
    "    zoopla_clean['title'] = zoopla_clean['title'].str.replace('\\d+','', regex=True)\n",
    "    #Remove trailing spaces etc...\n",
    "    zoopla_clean['title'] = zoopla_clean['title'].str.strip()\n",
    "    #Everything lower case\n",
    "    zoopla_clean['title'] = zoopla_clean['title'].apply(lambda x: x.lower())\n",
    "\n",
    "    #Define the properties to keep for analysis\n",
    "    property_types_to_keep = [\"flat\",\"terraced\",\"semi-detached\",\"detached\",\"end terrace\"]\n",
    "    zoopla_clean = zoopla_clean[zoopla_clean['title'].isin(property_types_to_keep)]\n",
    "\n",
    "    #Change name of column\n",
    "    zoopla_clean = zoopla_clean.rename({'title': 'type'}, axis='columns')\n",
    "\n",
    "    return zoopla_clean\n",
    "\n",
    "def clean_price(zoopla_df):\n",
    "    zoopla_clean = zoopla_df.copy()\n",
    "    #Clean the price column and change it to a numeric type\n",
    "    zoopla_clean['price'] = zoopla_clean['price'].str.replace('£','')\n",
    "    zoopla_clean['price'] = zoopla_clean['price'].str.replace(',','')\n",
    "    #Drop the row if we can not convert to a numeric type. This normally means that the property is POA (Price on application)\n",
    "    zoopla_clean['price'] = pd.to_numeric(zoopla_clean['price'], errors='coerce')\n",
    "    zoopla_clean.dropna()\n",
    "\n",
    "    return zoopla_clean\n",
    "\n",
    "def get_dist_to_station(zoopla_df):\n",
    "    zoopla_clean = zoopla_df.copy()\n",
    "    #Remove all alphabetic entries from the station column -> to extract only the distance to the station from the property\n",
    "    zoopla_clean['station'] = zoopla_clean['station'].str.replace('[a-zA-z]+','',regex=True)\n",
    "    zoopla_clean['station'] = pd.to_numeric(zoopla_clean['station'], errors='coerce')\n",
    "\n",
    "    return zoopla_clean"
   ]
  },
  {
   "cell_type": "code",
   "execution_count": 226,
   "metadata": {},
   "outputs": [],
   "source": [
    "zoopla_clean = clean_type(zoopla_df)\n",
    "zoopla_clean = clean_price(zoopla_clean)\n",
    "zoopla_clean = get_dist_to_station(zoopla_clean)\n",
    "\n",
    "\n",
    "zoopla_clean['address'] = zoopla_clean['address'].str.rsplit(',').str[-1]\n",
    "zoopla_clean['post_code']=zoopla_clean['address'].apply(lambda x: x.split(\" \")[-1])\n",
    "zoopla_clean['address']=zoopla_clean['address'].apply(lambda x: join(x.split(' ')[:-1])"
   ]
  },
  {
   "cell_type": "code",
   "execution_count": 227,
   "metadata": {},
   "outputs": [
    {
     "name": "stdout",
     "output_type": "stream",
     "text": [
      "13971\n"
     ]
    },
    {
     "data": {
      "text/html": [
       "<div>\n",
       "<style scoped>\n",
       "    .dataframe tbody tr th:only-of-type {\n",
       "        vertical-align: middle;\n",
       "    }\n",
       "\n",
       "    .dataframe tbody tr th {\n",
       "        vertical-align: top;\n",
       "    }\n",
       "\n",
       "    .dataframe thead th {\n",
       "        text-align: right;\n",
       "    }\n",
       "</style>\n",
       "<table border=\"1\" class=\"dataframe\">\n",
       "  <thead>\n",
       "    <tr style=\"text-align: right;\">\n",
       "      <th></th>\n",
       "      <th>type</th>\n",
       "      <th>address</th>\n",
       "      <th>price</th>\n",
       "      <th>station</th>\n",
       "      <th>beds</th>\n",
       "      <th>baths</th>\n",
       "      <th>receptions</th>\n",
       "      <th>post_code</th>\n",
       "    </tr>\n",
       "  </thead>\n",
       "  <tbody>\n",
       "    <tr>\n",
       "      <th>0</th>\n",
       "      <td>flat</td>\n",
       "      <td>[, Bolton, -, Over, 55's, Development]</td>\n",
       "      <td>140000.0</td>\n",
       "      <td>0.7</td>\n",
       "      <td>2</td>\n",
       "      <td>1</td>\n",
       "      <td>1</td>\n",
       "      <td>BL1</td>\n",
       "    </tr>\n",
       "    <tr>\n",
       "      <th>1</th>\n",
       "      <td>semi-detached</td>\n",
       "      <td>[, Manchester]</td>\n",
       "      <td>230000.0</td>\n",
       "      <td>0.4</td>\n",
       "      <td>2</td>\n",
       "      <td>0</td>\n",
       "      <td>0</td>\n",
       "      <td>M34</td>\n",
       "    </tr>\n",
       "    <tr>\n",
       "      <th>3</th>\n",
       "      <td>semi-detached</td>\n",
       "      <td>[, Wigan]</td>\n",
       "      <td>140000.0</td>\n",
       "      <td>0.4</td>\n",
       "      <td>2</td>\n",
       "      <td>1</td>\n",
       "      <td>1</td>\n",
       "      <td>WN4</td>\n",
       "    </tr>\n",
       "    <tr>\n",
       "      <th>4</th>\n",
       "      <td>semi-detached</td>\n",
       "      <td>[, Bolton]</td>\n",
       "      <td>180000.0</td>\n",
       "      <td>0.6</td>\n",
       "      <td>3</td>\n",
       "      <td>1</td>\n",
       "      <td>2</td>\n",
       "      <td>BL4</td>\n",
       "    </tr>\n",
       "  </tbody>\n",
       "</table>\n",
       "</div>"
      ],
      "text/plain": [
       "            type                                 address     price  station  \\\n",
       "0           flat  [, Bolton, -, Over, 55's, Development]  140000.0      0.7   \n",
       "1  semi-detached                          [, Manchester]  230000.0      0.4   \n",
       "3  semi-detached                               [, Wigan]  140000.0      0.4   \n",
       "4  semi-detached                              [, Bolton]  180000.0      0.6   \n",
       "\n",
       "   beds  baths  receptions post_code  \n",
       "0     2      1           1       BL1  \n",
       "1     2      0           0       M34  \n",
       "3     2      1           1       WN4  \n",
       "4     3      1           2       BL4  "
      ]
     },
     "execution_count": 227,
     "metadata": {},
     "output_type": "execute_result"
    }
   ],
   "source": [
    "print(len(zoopla_clean))\n",
    "zoopla_clean.head(4)"
   ]
  },
  {
   "cell_type": "code",
   "execution_count": 228,
   "metadata": {},
   "outputs": [
    {
     "data": {
      "text/plain": [
       "flat             9071\n",
       "terraced         1797\n",
       "semi-detached    1662\n",
       "detached          953\n",
       "end terrace       488\n",
       "Name: type, dtype: int64"
      ]
     },
     "execution_count": 228,
     "metadata": {},
     "output_type": "execute_result"
    }
   ],
   "source": [
    "zoopla_clean['type'].value_counts()"
   ]
  },
  {
   "cell_type": "code",
   "execution_count": 229,
   "metadata": {},
   "outputs": [
    {
     "data": {
      "text/plain": [
       "<AxesSubplot:>"
      ]
     },
     "execution_count": 229,
     "metadata": {},
     "output_type": "execute_result"
    },
    {
     "data": {
      "image/png": "[encoded data removed]",
      "text/plain": [
       "<Figure size 432x288 with 1 Axes>"
      ]
     },
     "metadata": {
      "needs_background": "light"
     },
     "output_type": "display_data"
    }
   ],
   "source": [
    "zoopla_clean['station'].hist(bins=40)"
   ]
  }
 ],
 "metadata": {
  "interpreter": {
   "hash": "12b8a3e40ec97a17d3ae836e16b9402e34a74c9e44476ceb8abe4e7c2b187359"
  },
  "kernelspec": {
   "display_name": "Python 3.9.9 64-bit ('datascience': venv)",
   "language": "python",
   "name": "python3"
  },
  "language_info": {
   "codemirror_mode": {
    "name": "ipython",
    "version": 3
   },
   "file_extension": ".py",
   "mimetype": "text/x-python",
   "name": "python",
   "nbconvert_exporter": "python",
   "pygments_lexer": "ipython3",
   "version": "3.9.9"
  },
  "orig_nbformat": 4
 },
 "nbformat": 4,
 "nbformat_minor": 2
}
