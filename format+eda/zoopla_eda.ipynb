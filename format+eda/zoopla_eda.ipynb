{
 "cells": [
  {
   "cell_type": "code",
   "execution_count": 16,
   "metadata": {},
   "outputs": [],
   "source": [
    "import zoopla_clean as zc\n",
    "import pandas as pd\n",
    "import matplotlib.pyplot as plt\n",
    "import seaborn as sns\n",
    "from pathlib import Path\n",
    "import os\n",
    "\n",
    "main_directory = Path.cwd().parent.as_posix()"
   ]
  },
  {
   "cell_type": "code",
   "execution_count": 17,
   "metadata": {},
   "outputs": [],
   "source": [
    "zoopla_df = pd.read_csv(f\"{main_directory}/databases/zooplaii-mcr.csv\")"
   ]
  },
  {
   "cell_type": "code",
   "execution_count": 18,
   "metadata": {},
   "outputs": [
    {
     "name": "stdout",
     "output_type": "stream",
     "text": [
      "6025\n"
     ]
    },
    {
     "data": {
      "text/html": [
       "<div>\n",
       "<style scoped>\n",
       "    .dataframe tbody tr th:only-of-type {\n",
       "        vertical-align: middle;\n",
       "    }\n",
       "\n",
       "    .dataframe tbody tr th {\n",
       "        vertical-align: top;\n",
       "    }\n",
       "\n",
       "    .dataframe thead th {\n",
       "        text-align: right;\n",
       "    }\n",
       "</style>\n",
       "<table border=\"1\" class=\"dataframe\">\n",
       "  <thead>\n",
       "    <tr style=\"text-align: right;\">\n",
       "      <th></th>\n",
       "      <th>title</th>\n",
       "      <th>address</th>\n",
       "      <th>price</th>\n",
       "      <th>station</th>\n",
       "      <th>beds</th>\n",
       "      <th>baths</th>\n",
       "      <th>receptions</th>\n",
       "    </tr>\n",
       "  </thead>\n",
       "  <tbody>\n",
       "    <tr>\n",
       "      <th>0</th>\n",
       "      <td>3 bed terraced house for sale</td>\n",
       "      <td>Richmond Street, Worsley Mesnes, Wigan WN3</td>\n",
       "      <td>£160,000</td>\n",
       "      <td>0.9 miles Wigan North Western</td>\n",
       "      <td>3</td>\n",
       "      <td>1</td>\n",
       "      <td>1</td>\n",
       "    </tr>\n",
       "    <tr>\n",
       "      <th>1</th>\n",
       "      <td>2 bed flat for sale</td>\n",
       "      <td>The Boulevard, Didsbury, Manchester M20</td>\n",
       "      <td>£235,000</td>\n",
       "      <td>1.5 miles Burnage</td>\n",
       "      <td>2</td>\n",
       "      <td>2</td>\n",
       "      <td>1</td>\n",
       "    </tr>\n",
       "    <tr>\n",
       "      <th>2</th>\n",
       "      <td>2 bed flat for sale</td>\n",
       "      <td>The Boulevard, West Didsbury, Manchester M20</td>\n",
       "      <td>£240,000</td>\n",
       "      <td>1.5 miles Burnage</td>\n",
       "      <td>2</td>\n",
       "      <td>2</td>\n",
       "      <td>1</td>\n",
       "    </tr>\n",
       "    <tr>\n",
       "      <th>3</th>\n",
       "      <td>5 bed detached house for sale</td>\n",
       "      <td>Verdure Avenue, Heaton, Bolton BL1</td>\n",
       "      <td>£499,950</td>\n",
       "      <td>1 miles Lostock</td>\n",
       "      <td>5</td>\n",
       "      <td>2</td>\n",
       "      <td>2</td>\n",
       "    </tr>\n",
       "  </tbody>\n",
       "</table>\n",
       "</div>"
      ],
      "text/plain": [
       "                           title  \\\n",
       "0  3 bed terraced house for sale   \n",
       "1            2 bed flat for sale   \n",
       "2            2 bed flat for sale   \n",
       "3  5 bed detached house for sale   \n",
       "\n",
       "                                        address     price  \\\n",
       "0    Richmond Street, Worsley Mesnes, Wigan WN3  £160,000   \n",
       "1       The Boulevard, Didsbury, Manchester M20  £235,000   \n",
       "2  The Boulevard, West Didsbury, Manchester M20  £240,000   \n",
       "3            Verdure Avenue, Heaton, Bolton BL1  £499,950   \n",
       "\n",
       "                         station  beds  baths  receptions  \n",
       "0  0.9 miles Wigan North Western     3      1           1  \n",
       "1              1.5 miles Burnage     2      2           1  \n",
       "2              1.5 miles Burnage     2      2           1  \n",
       "3                1 miles Lostock     5      2           2  "
      ]
     },
     "execution_count": 18,
     "metadata": {},
     "output_type": "execute_result"
    }
   ],
   "source": [
    "size_start = (len(zoopla_df))\n",
    "zoopla_df.head(4)"
   ]
  },
  {
   "cell_type": "code",
   "execution_count": 19,
   "metadata": {},
   "outputs": [],
   "source": [
    "df = zc.clean_type(zoopla_df)\n",
    "df = zc.clean_price(df)\n",
    "df = zc.get_dist_to_station(df)\n",
    "df = zc.clean_address(df)"
   ]
  },
  {
   "cell_type": "code",
   "execution_count": 20,
   "metadata": {},
   "outputs": [
    {
     "name": "stdout",
     "output_type": "stream",
     "text": [
      "4767\n"
     ]
    },
    {
     "data": {
      "text/html": [
       "<div>\n",
       "<style scoped>\n",
       "    .dataframe tbody tr th:only-of-type {\n",
       "        vertical-align: middle;\n",
       "    }\n",
       "\n",
       "    .dataframe tbody tr th {\n",
       "        vertical-align: top;\n",
       "    }\n",
       "\n",
       "    .dataframe thead th {\n",
       "        text-align: right;\n",
       "    }\n",
       "</style>\n",
       "<table border=\"1\" class=\"dataframe\">\n",
       "  <thead>\n",
       "    <tr style=\"text-align: right;\">\n",
       "      <th></th>\n",
       "      <th>type</th>\n",
       "      <th>address</th>\n",
       "      <th>price</th>\n",
       "      <th>station</th>\n",
       "      <th>beds</th>\n",
       "      <th>baths</th>\n",
       "      <th>receptions</th>\n",
       "      <th>post_code</th>\n",
       "      <th>location</th>\n",
       "    </tr>\n",
       "  </thead>\n",
       "  <tbody>\n",
       "    <tr>\n",
       "      <th>0</th>\n",
       "      <td>terraced</td>\n",
       "      <td>Wigan WN3</td>\n",
       "      <td>160000.0</td>\n",
       "      <td>0.9</td>\n",
       "      <td>3</td>\n",
       "      <td>1</td>\n",
       "      <td>1</td>\n",
       "      <td>WN3</td>\n",
       "      <td>wigan</td>\n",
       "    </tr>\n",
       "    <tr>\n",
       "      <th>1</th>\n",
       "      <td>flat</td>\n",
       "      <td>Manchester M20</td>\n",
       "      <td>235000.0</td>\n",
       "      <td>1.5</td>\n",
       "      <td>2</td>\n",
       "      <td>2</td>\n",
       "      <td>1</td>\n",
       "      <td>M20</td>\n",
       "      <td>manchester</td>\n",
       "    </tr>\n",
       "    <tr>\n",
       "      <th>2</th>\n",
       "      <td>flat</td>\n",
       "      <td>Manchester M20</td>\n",
       "      <td>240000.0</td>\n",
       "      <td>1.5</td>\n",
       "      <td>2</td>\n",
       "      <td>2</td>\n",
       "      <td>1</td>\n",
       "      <td>M20</td>\n",
       "      <td>manchester</td>\n",
       "    </tr>\n",
       "    <tr>\n",
       "      <th>3</th>\n",
       "      <td>detached</td>\n",
       "      <td>Bolton BL1</td>\n",
       "      <td>499950.0</td>\n",
       "      <td>1.0</td>\n",
       "      <td>5</td>\n",
       "      <td>2</td>\n",
       "      <td>2</td>\n",
       "      <td>BL1</td>\n",
       "      <td>bolton</td>\n",
       "    </tr>\n",
       "  </tbody>\n",
       "</table>\n",
       "</div>"
      ],
      "text/plain": [
       "       type          address     price  station  beds  baths  receptions  \\\n",
       "0  terraced        Wigan WN3  160000.0      0.9     3      1           1   \n",
       "1      flat   Manchester M20  235000.0      1.5     2      2           1   \n",
       "2      flat   Manchester M20  240000.0      1.5     2      2           1   \n",
       "3  detached       Bolton BL1  499950.0      1.0     5      2           2   \n",
       "\n",
       "  post_code    location  \n",
       "0       WN3       wigan  \n",
       "1       M20  manchester  \n",
       "2       M20  manchester  \n",
       "3       BL1      bolton  "
      ]
     },
     "execution_count": 20,
     "metadata": {},
     "output_type": "execute_result"
    }
   ],
   "source": [
    "size_end = (len(df))\n",
    "df.head(4)"
   ]
  },
  {
   "cell_type": "code",
   "execution_count": null,
   "metadata": {},
   "outputs": [],
   "source": [
    "print(f\"Database of {size_start} reduced to {size_end} after cleaning\")"
   ]
  },
  {
   "cell_type": "code",
   "execution_count": 21,
   "metadata": {},
   "outputs": [
    {
     "data": {
      "text/plain": [
       "flat             2448\n",
       "semi-detached     856\n",
       "terraced          750\n",
       "detached          534\n",
       "end terrace       179\n",
       "Name: type, dtype: int64"
      ]
     },
     "execution_count": 21,
     "metadata": {},
     "output_type": "execute_result"
    }
   ],
   "source": [
    "df['type'].value_counts()"
   ]
  },
  {
   "cell_type": "code",
   "execution_count": 22,
   "metadata": {},
   "outputs": [
    {
     "data": {
      "text/plain": [
       "manchester         2462\n",
       "salford             468\n",
       "bolton              363\n",
       "wigan               256\n",
       "stockport           208\n",
       "bury                162\n",
       "rochdale            118\n",
       "altrincham          107\n",
       "oldham               97\n",
       "cheshire             94\n",
       "lancashire           93\n",
       "leigh                70\n",
       "sale                 55\n",
       "ashtonunderlyne      51\n",
       "skelmersdale         51\n",
       "cheadle              40\n",
       "hyde                 37\n",
       "stalybridge          35\n",
       "Name: location, dtype: int64"
      ]
     },
     "execution_count": 22,
     "metadata": {},
     "output_type": "execute_result"
    }
   ],
   "source": [
    "df['location'].value_counts()"
   ]
  },
  {
   "cell_type": "code",
   "execution_count": null,
   "metadata": {},
   "outputs": [],
   "source": []
  }
 ],
 "metadata": {
  "interpreter": {
   "hash": "12b8a3e40ec97a17d3ae836e16b9402e34a74c9e44476ceb8abe4e7c2b187359"
  },
  "kernelspec": {
   "display_name": "Python 3.9.9 64-bit ('datascience': venv)",
   "language": "python",
   "name": "python3"
  },
  "language_info": {
   "codemirror_mode": {
    "name": "ipython",
    "version": 3
   },
   "file_extension": ".py",
   "mimetype": "text/x-python",
   "name": "python",
   "nbconvert_exporter": "python",
   "pygments_lexer": "ipython3",
   "version": "3.9.9"
  },
  "orig_nbformat": 4
 },
 "nbformat": 4,
 "nbformat_minor": 2
}
