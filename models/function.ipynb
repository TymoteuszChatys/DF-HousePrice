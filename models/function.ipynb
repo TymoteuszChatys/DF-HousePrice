{
 "cells": [
  {
   "cell_type": "code",
   "execution_count": 158,
   "metadata": {},
   "outputs": [],
   "source": [
    "import pandas as pd\n",
    "import matplotlib.pyplot as plt\n",
    "import seaborn as sns\n",
    "from pathlib import Path\n",
    "import os\n",
    "import pickle\n",
    "\n",
    "main_directory = Path.cwd().parent.as_posix()\n",
    "pc_df = pd.read_csv(f\"{main_directory}/databases/post_code_list.csv\")\n",
    "model = pickle.load(open(\"lgbmmodel2.pkl\", \"rb\"))\n"
   ]
  },
  {
   "cell_type": "code",
   "execution_count": 159,
   "metadata": {},
   "outputs": [],
   "source": [
    "def get_price(model,type,station,beds,baths,receptions,postcode,pc_df):\n",
    "\n",
    "\n",
    "        price_12_months = pc_df.loc[pc_df['post_code'] == (postcode.upper()), 'avg_sold_price_12months'].iloc[0]\n",
    "\n",
    "        data = {'type' : type,\n",
    "                'station' : station,\n",
    "                'beds' : beds,\n",
    "                'baths' : baths,\n",
    "                'receptions' : receptions,\n",
    "                'avg_sold_price_12months' : price_12_months\n",
    "        }\n",
    "\n",
    "        df = pd.DataFrame(data, index=[0])\n",
    "\n",
    "        categorical_columns = ['type']\n",
    "        category_ids = [df.columns.get_loc(col) for col in categorical_columns]\n",
    "        category_ids\n",
    "\n",
    "        for column in categorical_columns:\n",
    "                df[column] = pd.Categorical(df[column])\n",
    "\n",
    "        \n",
    "        print(df)\n",
    "        \n",
    "\n",
    "        return model.predict(df)"
   ]
  },
  {
   "cell_type": "code",
   "execution_count": 160,
   "metadata": {},
   "outputs": [],
   "source": [
    "type = \"detached\"\n",
    "station = 1\n",
    "beds = 3\n",
    "baths = 3\n",
    "receptions = 1\n",
    "postcode = \"m1\""
   ]
  },
  {
   "cell_type": "code",
   "execution_count": 161,
   "metadata": {},
   "outputs": [
    {
     "name": "stdout",
     "output_type": "stream",
     "text": [
      "       type  station  beds  baths  receptions  avg_sold_price_12months\n",
      "0  detached        1     3      3           1                 224541.0\n",
      "[374344.99894528]\n"
     ]
    }
   ],
   "source": [
    "print(get_price(model,type,station,beds,baths,receptions,postcode,pc_df))"
   ]
  }
 ],
 "metadata": {
  "interpreter": {
   "hash": "12b8a3e40ec97a17d3ae836e16b9402e34a74c9e44476ceb8abe4e7c2b187359"
  },
  "kernelspec": {
   "display_name": "Python 3.9.9 64-bit ('datascience': venv)",
   "language": "python",
   "name": "python3"
  },
  "language_info": {
   "codemirror_mode": {
    "name": "ipython",
    "version": 3
   },
   "file_extension": ".py",
   "mimetype": "text/x-python",
   "name": "python",
   "nbconvert_exporter": "python",
   "pygments_lexer": "ipython3",
   "version": "3.9.9"
  },
  "orig_nbformat": 4
 },
 "nbformat": 4,
 "nbformat_minor": 2
}
