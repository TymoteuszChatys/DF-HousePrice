{
 "cells": [
  {
   "cell_type": "code",
   "execution_count": 165,
   "metadata": {},
   "outputs": [],
   "source": [
    "import pandas as pd\n",
    "import matplotlib.pyplot as plt\n",
    "import seaborn as sns\n",
    "from pathlib import Path\n",
    "import os\n",
    "\n",
    "\n",
    "import statsmodels.api as sm\n",
    "import statsmodels\n",
    "import lightgbm as lgb\n",
    "\n",
    "main_directory = Path.cwd().parent.as_posix()"
   ]
  },
  {
   "cell_type": "code",
   "execution_count": 166,
   "metadata": {},
   "outputs": [
    {
     "data": {
      "text/html": [
       "<div>\n",
       "<style scoped>\n",
       "    .dataframe tbody tr th:only-of-type {\n",
       "        vertical-align: middle;\n",
       "    }\n",
       "\n",
       "    .dataframe tbody tr th {\n",
       "        vertical-align: top;\n",
       "    }\n",
       "\n",
       "    .dataframe thead th {\n",
       "        text-align: right;\n",
       "    }\n",
       "</style>\n",
       "<table border=\"1\" class=\"dataframe\">\n",
       "  <thead>\n",
       "    <tr style=\"text-align: right;\">\n",
       "      <th></th>\n",
       "      <th>type</th>\n",
       "      <th>price</th>\n",
       "      <th>station</th>\n",
       "      <th>beds</th>\n",
       "      <th>baths</th>\n",
       "      <th>receptions</th>\n",
       "      <th>post_code</th>\n",
       "      <th>location</th>\n",
       "      <th>avg_sold_price_12months</th>\n",
       "    </tr>\n",
       "  </thead>\n",
       "  <tbody>\n",
       "    <tr>\n",
       "      <th>0</th>\n",
       "      <td>flat</td>\n",
       "      <td>369950.0</td>\n",
       "      <td>0.5</td>\n",
       "      <td>1</td>\n",
       "      <td>1</td>\n",
       "      <td>0.0</td>\n",
       "      <td>M15</td>\n",
       "      <td>manchester</td>\n",
       "      <td>200730.0</td>\n",
       "    </tr>\n",
       "    <tr>\n",
       "      <th>1</th>\n",
       "      <td>flat</td>\n",
       "      <td>369950.0</td>\n",
       "      <td>0.5</td>\n",
       "      <td>1</td>\n",
       "      <td>1</td>\n",
       "      <td>0.0</td>\n",
       "      <td>M15</td>\n",
       "      <td>manchester</td>\n",
       "      <td>200730.0</td>\n",
       "    </tr>\n",
       "    <tr>\n",
       "      <th>2</th>\n",
       "      <td>flat</td>\n",
       "      <td>154950.0</td>\n",
       "      <td>0.5</td>\n",
       "      <td>2</td>\n",
       "      <td>1</td>\n",
       "      <td>1.0</td>\n",
       "      <td>M15</td>\n",
       "      <td>manchester</td>\n",
       "      <td>200730.0</td>\n",
       "    </tr>\n",
       "    <tr>\n",
       "      <th>3</th>\n",
       "      <td>flat</td>\n",
       "      <td>541805.0</td>\n",
       "      <td>0.2</td>\n",
       "      <td>3</td>\n",
       "      <td>1</td>\n",
       "      <td>1.0</td>\n",
       "      <td>M15</td>\n",
       "      <td>manchester</td>\n",
       "      <td>200730.0</td>\n",
       "    </tr>\n",
       "    <tr>\n",
       "      <th>4</th>\n",
       "      <td>flat</td>\n",
       "      <td>240327.0</td>\n",
       "      <td>0.2</td>\n",
       "      <td>1</td>\n",
       "      <td>1</td>\n",
       "      <td>1.0</td>\n",
       "      <td>M15</td>\n",
       "      <td>manchester</td>\n",
       "      <td>200730.0</td>\n",
       "    </tr>\n",
       "    <tr>\n",
       "      <th>...</th>\n",
       "      <td>...</td>\n",
       "      <td>...</td>\n",
       "      <td>...</td>\n",
       "      <td>...</td>\n",
       "      <td>...</td>\n",
       "      <td>...</td>\n",
       "      <td>...</td>\n",
       "      <td>...</td>\n",
       "      <td>...</td>\n",
       "    </tr>\n",
       "    <tr>\n",
       "      <th>4402</th>\n",
       "      <td>detached</td>\n",
       "      <td>625000.0</td>\n",
       "      <td>0.7</td>\n",
       "      <td>3</td>\n",
       "      <td>2</td>\n",
       "      <td>3.0</td>\n",
       "      <td>M34</td>\n",
       "      <td>manchester</td>\n",
       "      <td>193433.0</td>\n",
       "    </tr>\n",
       "    <tr>\n",
       "      <th>4403</th>\n",
       "      <td>semi-detached</td>\n",
       "      <td>230000.0</td>\n",
       "      <td>0.7</td>\n",
       "      <td>3</td>\n",
       "      <td>1</td>\n",
       "      <td>2.0</td>\n",
       "      <td>M34</td>\n",
       "      <td>manchester</td>\n",
       "      <td>193433.0</td>\n",
       "    </tr>\n",
       "    <tr>\n",
       "      <th>4404</th>\n",
       "      <td>semi-detached</td>\n",
       "      <td>310000.0</td>\n",
       "      <td>0.6</td>\n",
       "      <td>4</td>\n",
       "      <td>1</td>\n",
       "      <td>0.0</td>\n",
       "      <td>M34</td>\n",
       "      <td>manchester</td>\n",
       "      <td>193433.0</td>\n",
       "    </tr>\n",
       "    <tr>\n",
       "      <th>4405</th>\n",
       "      <td>terraced</td>\n",
       "      <td>130000.0</td>\n",
       "      <td>0.2</td>\n",
       "      <td>3</td>\n",
       "      <td>1</td>\n",
       "      <td>1.0</td>\n",
       "      <td>M34</td>\n",
       "      <td>manchester</td>\n",
       "      <td>193433.0</td>\n",
       "    </tr>\n",
       "    <tr>\n",
       "      <th>4406</th>\n",
       "      <td>detached</td>\n",
       "      <td>280000.0</td>\n",
       "      <td>0.6</td>\n",
       "      <td>3</td>\n",
       "      <td>2</td>\n",
       "      <td>1.0</td>\n",
       "      <td>SK16</td>\n",
       "      <td>manchester</td>\n",
       "      <td>192413.0</td>\n",
       "    </tr>\n",
       "  </tbody>\n",
       "</table>\n",
       "<p>4407 rows × 9 columns</p>\n",
       "</div>"
      ],
      "text/plain": [
       "               type     price  station  beds  baths  receptions post_code  \\\n",
       "0              flat  369950.0      0.5     1      1         0.0       M15   \n",
       "1              flat  369950.0      0.5     1      1         0.0       M15   \n",
       "2              flat  154950.0      0.5     2      1         1.0       M15   \n",
       "3              flat  541805.0      0.2     3      1         1.0       M15   \n",
       "4              flat  240327.0      0.2     1      1         1.0       M15   \n",
       "...             ...       ...      ...   ...    ...         ...       ...   \n",
       "4402       detached  625000.0      0.7     3      2         3.0       M34   \n",
       "4403  semi-detached  230000.0      0.7     3      1         2.0       M34   \n",
       "4404  semi-detached  310000.0      0.6     4      1         0.0       M34   \n",
       "4405       terraced  130000.0      0.2     3      1         1.0       M34   \n",
       "4406       detached  280000.0      0.6     3      2         1.0      SK16   \n",
       "\n",
       "        location  avg_sold_price_12months  \n",
       "0     manchester                 200730.0  \n",
       "1     manchester                 200730.0  \n",
       "2     manchester                 200730.0  \n",
       "3     manchester                 200730.0  \n",
       "4     manchester                 200730.0  \n",
       "...          ...                      ...  \n",
       "4402  manchester                 193433.0  \n",
       "4403  manchester                 193433.0  \n",
       "4404  manchester                 193433.0  \n",
       "4405  manchester                 193433.0  \n",
       "4406  manchester                 192413.0  \n",
       "\n",
       "[4407 rows x 9 columns]"
      ]
     },
     "execution_count": 166,
     "metadata": {},
     "output_type": "execute_result"
    }
   ],
   "source": [
    "df = pd.read_csv(f\"{main_directory}/databases/zoopla_data.csv\")\n",
    "#df = pd.get_dummies(df, columns = ['type'], drop_first = True, prefix = 'type')\n",
    "#df = pd.get_dummies(df, columns = ['location'], drop_first = True, prefix = 'location')\n",
    "df"
   ]
  },
  {
   "cell_type": "code",
   "execution_count": 167,
   "metadata": {},
   "outputs": [],
   "source": [
    "categorical_columns = ['type','post_code','location']\n",
    "category_ids = [df.columns.get_loc(col) for col in categorical_columns]\n",
    "category_ids\n",
    "\n",
    "for column in categorical_columns:\n",
    "    df[column] = pd.Categorical(df[column])"
   ]
  },
  {
   "cell_type": "code",
   "execution_count": 168,
   "metadata": {},
   "outputs": [],
   "source": [
    "x = df.drop(['price'],axis=1)\n",
    "y = df.price"
   ]
  },
  {
   "cell_type": "code",
   "execution_count": 169,
   "metadata": {},
   "outputs": [],
   "source": [
    "from sklearn.model_selection import train_test_split\n",
    "from sklearn import metrics\n",
    "\n",
    "x_train,x_test,y_train,y_test = train_test_split(x,y,test_size=0.2,random_state=42)\n",
    "\n"
   ]
  },
  {
   "cell_type": "code",
   "execution_count": 170,
   "metadata": {},
   "outputs": [
    {
     "name": "stderr",
     "output_type": "stream",
     "text": [
      "/home/tymo/Desktop/ZooplaScrape/datascience/lib/python3.9/site-packages/lightgbm/sklearn.py:726: UserWarning: 'early_stopping_rounds' argument is deprecated and will be removed in a future release of LightGBM. Pass 'early_stopping()' callback via 'callbacks' argument instead.\n",
      "  _log_warning(\"'early_stopping_rounds' argument is deprecated and will be removed in a future release of LightGBM. \"\n",
      "/home/tymo/Desktop/ZooplaScrape/datascience/lib/python3.9/site-packages/lightgbm/sklearn.py:736: UserWarning: 'verbose' argument is deprecated and will be removed in a future release of LightGBM. Pass 'log_evaluation()' callback via 'callbacks' argument instead.\n",
      "  _log_warning(\"'verbose' argument is deprecated and will be removed in a future release of LightGBM. \"\n",
      "/home/tymo/Desktop/ZooplaScrape/datascience/lib/python3.9/site-packages/lightgbm/engine.py:177: UserWarning: Found `num_iterations` in params. Will use it instead of argument\n",
      "  _log_warning(f\"Found `{alias}` in params. Will use it instead of argument\")\n",
      "/home/tymo/Desktop/ZooplaScrape/datascience/lib/python3.9/site-packages/lightgbm/basic.py:2065: UserWarning: Using categorical_feature in Dataset.\n",
      "  _log_warning('Using categorical_feature in Dataset.')\n",
      "/home/tymo/Desktop/ZooplaScrape/datascience/lib/python3.9/site-packages/lightgbm/basic.py:2068: UserWarning: categorical_feature in Dataset is overridden.\n",
      "New categorical_feature is [0, 6, 7]\n",
      "  _log_warning('categorical_feature in Dataset is overridden.\\n'\n",
      "/home/tymo/Desktop/ZooplaScrape/datascience/lib/python3.9/site-packages/lightgbm/basic.py:1780: UserWarning: Overriding the parameters from Reference Dataset.\n",
      "  _log_warning('Overriding the parameters from Reference Dataset.')\n",
      "/home/tymo/Desktop/ZooplaScrape/datascience/lib/python3.9/site-packages/lightgbm/basic.py:1513: UserWarning: categorical_column in param dict is overridden.\n",
      "  _log_warning(f'{cat_alias} in param dict is overridden.')\n"
     ]
    },
    {
     "name": "stdout",
     "output_type": "stream",
     "text": [
      "[LightGBM] [Warning] Met categorical feature which contains sparse values. Consider renumbering to consecutive integers started from zero\n",
      "[50]\ttraining's mape: 0.264262\ttraining's l2: 8.50767e+09\tvalid_0's mape: 0.287173\tvalid_0's l2: 8.44492e+09\n",
      "[100]\ttraining's mape: 0.22591\ttraining's l2: 6.8138e+09\tvalid_0's mape: 0.252951\tvalid_0's l2: 7.03567e+09\n",
      "[150]\ttraining's mape: 0.213556\ttraining's l2: 6.2336e+09\tvalid_0's mape: 0.242064\tvalid_0's l2: 6.73073e+09\n",
      "[200]\ttraining's mape: 0.206976\ttraining's l2: 5.94917e+09\tvalid_0's mape: 0.236626\tvalid_0's l2: 6.6093e+09\n",
      "[250]\ttraining's mape: 0.201443\ttraining's l2: 5.75641e+09\tvalid_0's mape: 0.232119\tvalid_0's l2: 6.55813e+09\n",
      "[300]\ttraining's mape: 0.197635\ttraining's l2: 5.61846e+09\tvalid_0's mape: 0.22903\tvalid_0's l2: 6.52758e+09\n",
      "[350]\ttraining's mape: 0.195305\ttraining's l2: 5.49544e+09\tvalid_0's mape: 0.227665\tvalid_0's l2: 6.51151e+09\n",
      "[400]\ttraining's mape: 0.193398\ttraining's l2: 5.4026e+09\tvalid_0's mape: 0.226714\tvalid_0's l2: 6.51262e+09\n",
      "[450]\ttraining's mape: 0.191339\ttraining's l2: 5.28349e+09\tvalid_0's mape: 0.226112\tvalid_0's l2: 6.51578e+09\n"
     ]
    },
    {
     "data": {
      "text/plain": [
       "LGBMRegressor(learning_rate=0.03, max_depth=4, num_iterations=50000,\n",
       "              random_state=42)"
      ]
     },
     "execution_count": 170,
     "metadata": {},
     "output_type": "execute_result"
    }
   ],
   "source": [
    "model = lgb.LGBMRegressor(learning_rate=0.03,max_depth=4,random_state=42,num_iterations=50000)\n",
    "model.fit(x_train,y_train,eval_set=[(x_test,y_test),(x_train,y_train)],eval_metric='mape',verbose=50,early_stopping_rounds=100,categorical_feature=category_ids,metrics=['mape'])"
   ]
  },
  {
   "cell_type": "code",
   "execution_count": 171,
   "metadata": {},
   "outputs": [
    {
     "data": {
      "text/plain": [
       "<AxesSubplot:title={'center':'Feature importance'}, xlabel='Feature importance', ylabel='Features'>"
      ]
     },
     "execution_count": 171,
     "metadata": {},
     "output_type": "execute_result"
    },
    {
     "data": {
      "image/png": "[encoded data removed]",
      "text/plain": [
       "<Figure size 432x288 with 1 Axes>"
      ]
     },
     "metadata": {
      "needs_background": "light"
     },
     "output_type": "display_data"
    }
   ],
   "source": [
    "lgb.plot_importance(model)"
   ]
  }
 ],
 "metadata": {
  "interpreter": {
   "hash": "12b8a3e40ec97a17d3ae836e16b9402e34a74c9e44476ceb8abe4e7c2b187359"
  },
  "kernelspec": {
   "display_name": "Python 3.9.9 64-bit ('datascience': venv)",
   "language": "python",
   "name": "python3"
  },
  "language_info": {
   "codemirror_mode": {
    "name": "ipython",
    "version": 3
   },
   "file_extension": ".py",
   "mimetype": "text/x-python",
   "name": "python",
   "nbconvert_exporter": "python",
   "pygments_lexer": "ipython3",
   "version": "3.9.9"
  },
  "orig_nbformat": 4
 },
 "nbformat": 4,
 "nbformat_minor": 2
}
